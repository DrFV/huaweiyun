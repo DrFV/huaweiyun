{
 "cells": [
  {
   "cell_type": "markdown",
   "metadata": {},
   "source": [
    "# 载入模型并预测测试集，输出结果"
   ]
  },
  {
   "cell_type": "code",
   "execution_count": 1,
   "metadata": {},
   "outputs": [],
   "source": [
    "import pandas as pd\n",
    "import numpy as np\n",
    "import lightgbm as lgb\n",
    "import joblib\n",
    "import time"
   ]
  },
  {
   "cell_type": "code",
   "execution_count": 2,
   "metadata": {},
   "outputs": [],
   "source": [
    "test_feature = pd.read_csv(\"data/test_feature.csv\")\n",
    "test_data = pd.read_csv(\"data/A_testData0531.csv\")"
   ]
  },
  {
   "cell_type": "code",
   "execution_count": 3,
   "metadata": {},
   "outputs": [],
   "source": [
    "def load_model(name):\n",
    "    model = joblib.load(\"saved_model/\" + name)\n",
    "    return model\n",
    "\n",
    "def get_timeStamp(timeString, form=0):\n",
    "    if form == 0:\n",
    "        timeArray = time.strptime(timeString, '%Y-%m-%dT%H:%M:%S.%fZ')\n",
    "    if form == 1:\n",
    "        timeArray = time.strptime(timeString, '%Y/%m/%d  %H:%M:%S')\n",
    "    timeStamp = int(time.mktime(timeArray))\n",
    "    return timeStamp\n",
    "\n",
    "def timestamp_to_str(timestamp=None, format='%Y/%m/%d  %H:%M:%S'):\n",
    "    if timestamp:\n",
    "        time_tuple = time.localtime(timestamp)  # 把时间戳转换成时间元祖\n",
    "        result = time.strftime(format, time_tuple)  # 把时间元祖转换成格式化好的时间\n",
    "        return result\n",
    "    else:\n",
    "        return time.strptime(format)\n",
    "    \n",
    "def model_test(model, test_feature, test_data):\n",
    "    _test_feature = test_feature.copy()\n",
    "    _test_data = test_data.copy()\n",
    "    test_feature_array = np.array(_test_feature.iloc[:,1:])\n",
    "    _test_feature['label'] = model.predict(test_feature_array)\n",
    "    result = _test_feature[['loadingOrder','label']]\n",
    "\n",
    "    _test_data = _test_data.merge(result, on='loadingOrder', how='left')\n",
    "    _test_data['ETA'] = _test_data['onboardDate'].apply(lambda x:get_timeStamp(x,form=1)) + _test_data['label']\n",
    "    _test_data['ETA'] = _test_data['ETA'].apply(lambda x:timestamp_to_str(x))\n",
    "    _test_data.drop(['direction','TRANSPORT_TRACE'],axis=1,inplace=True)\n",
    "    #test_data['onboardDate'] = test_data['onboardDate']\n",
    "    _test_data['creatDate'] = pd.datetime.now().strftime('%Y/%m/%d  %H:%M:%S')\n",
    "    # 整理columns顺序\n",
    "    result = _test_data[['loadingOrder', 'timestamp', 'longitude', 'latitude', 'carrierName', 'vesselMMSI', 'onboardDate', 'ETA', 'creatDate']]\n",
    "    return result"
   ]
  },
  {
   "cell_type": "code",
   "execution_count": 4,
   "metadata": {},
   "outputs": [],
   "source": [
    "model_xgb = load_model(\"xlg.model\")\n",
    "result = model_test(model_xgb, test_feature, test_data)"
   ]
  },
  {
   "cell_type": "code",
   "execution_count": 5,
   "metadata": {},
   "outputs": [],
   "source": [
    "result.to_csv('result/result_xgb.csv', index=False)"
   ]
  }
 ],
 "metadata": {
  "kernelspec": {
   "display_name": "Python 3",
   "language": "python",
   "name": "python3"
  },
  "language_info": {
   "codemirror_mode": {
    "name": "ipython",
    "version": 3
   },
   "file_extension": ".py",
   "mimetype": "text/x-python",
   "name": "python",
   "nbconvert_exporter": "python",
   "pygments_lexer": "ipython3",
   "version": "3.7.3"
  }
 },
 "nbformat": 4,
 "nbformat_minor": 2
}
